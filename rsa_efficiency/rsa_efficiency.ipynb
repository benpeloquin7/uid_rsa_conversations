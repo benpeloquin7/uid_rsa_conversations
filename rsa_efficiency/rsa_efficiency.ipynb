{
 "cells": [
  {
   "cell_type": "markdown",
   "metadata": {},
   "source": [
    "# RSA efficiency theorem (step 0..)\n",
    "\n",
    "***Efficient communication from pragmatics when uncertainty.***"
   ]
  },
  {
   "cell_type": "markdown",
   "metadata": {},
   "source": [
    "### Setup\n",
    "\n",
    "```\n",
    "L = Lexicon ('b', 'g', 's', 'c', 'd', 't')  # blue, green, square, circle, 'dashed', 'doTTed'\n",
    "u in L = utterance from L (e.g. 'b')        # blue\n",
    "C = context (e.g. 'bsd', 'gcd', 'bct')         # blue-square-dashed, green-circle-dashed, blue-circle-dotted\n",
    "r in C = referrent in context (e.g. blue-square)\n",
    "D = dimensions = L\n",
    "d in D = dimension in Dimensions (e.g. 'b')\n",
    "p(d) = dimension probability, ratio of items which contain dimension d\n",
    "BR(L|C) = bit rate\n",
    "CE(C) = context entropy\n",
    "CL(C) = # of clusters in C\n",
    "```\n",
    "$$BR(L|C)= \\frac{1}{|L|}\\sum_{u \\in L}-log(\\frac{|[\\![u]\\!]|}{|C|})$$\n",
    "$$p(d) = \\frac{1}{|D|}\\sum_{r \\in C}\\delta(d, r)$$\n",
    "$$CE(C)= -\\sum_{d \\in D}p(d)\\times log(p(d))$$\n",
    "$$CL(C)= \\text{length}(set(C)))$$"
   ]
  },
  {
   "cell_type": "markdown",
   "metadata": {},
   "source": [
    "###  Step 0\n",
    "The bit rate of a language $L$ (code) used in context $C$ for a pragmatic speaker $L_{S1}$ is at least as great as the bit rate of an S0 language $L_{S0}$ speaker.\n",
    "\n",
    "$$BR(L_{S_1}) \\ge BR(L_{S_0})$$\n",
    "\n",
    "This isn't quite correct, but we want to say something like for $CE(C) > 1.$, this inequality is strict. That is, as long as there is at least one dimension $d$ along which a single referent $r \\in C$ differs, a pragmatic speaker can make efficient use of that dimension. This doesn't hold for $|C|>3  \\text{ & }  |D|>2$ case as we run into scenarios like $C = {BST, BST, GSC, GSC}$. **However, it does hold if we have at least one unique item in the context set C.**\n",
    "\n",
    "$$BR(L_{S_1}) > BR(L_{S_0}) \\iff |\\text{unique}(C)| < \\text{# of items in context set}$$\n"
   ]
  },
  {
   "cell_type": "code",
   "execution_count": 24,
   "metadata": {
    "collapsed": true
   },
   "outputs": [],
   "source": [
    "from collections import Counter\n",
    "import itertools as it\n",
    "import math\n",
    "import matplotlib.pyplot as plt\n",
    "import numpy as np\n",
    "import pandas as pd\n",
    "import seaborn as sns\n",
    "\n",
    "%matplotlib inline\n",
    "sns.set_style(\"whitegrid\")"
   ]
  },
  {
   "cell_type": "markdown",
   "metadata": {},
   "source": [
    "Simulation setup."
   ]
  },
  {
   "cell_type": "code",
   "execution_count": 25,
   "metadata": {
    "collapsed": true
   },
   "outputs": [],
   "source": [
    "context_size = 4  # number of possible referrents\n",
    "n_dimensions = 3\n",
    "color = ['b', 'g']\n",
    "shape = ['s', 'c']\n",
    "texture = ['d', 't']\n",
    "us = color + shape + texture\n",
    "pairs = ['{}{}{}'.format(c, s, t) for c in color for s in shape for t in texture]\n",
    "contexts = list(it.product(pairs, repeat=4))\n",
    "len(contexts)\n",
    "assert len(contexts) == (len(color)*len(shape)*len(texture))**context_size\n",
    "# n_dimensions((n_dimensions*len(color))**len(color))**context_size)"
   ]
  },
  {
   "cell_type": "markdown",
   "metadata": {},
   "source": [
    "Helpers."
   ]
  },
  {
   "cell_type": "code",
   "execution_count": 19,
   "metadata": {
    "collapsed": true
   },
   "outputs": [],
   "source": [
    "def create_L0_matrix(context):\n",
    "    \"\"\"Generate L0 literal matrix.\"\"\"\n",
    "    M = []\n",
    "    for c in context:\n",
    "        r = [u in c for u in us]\n",
    "        M.append(r)\n",
    "    M = np.array(M).reshape(len(context), len(us)).astype(float)\n",
    "    return M\n",
    "\n",
    "def L(M):\n",
    "    \"\"\"Listener\"\"\"\n",
    "    return S(M.transpose()).transpose()\n",
    "\n",
    "def S(M, do_round=False):\n",
    "    \"\"\"Speaker\"\"\"\n",
    "    norm = np.sum(M, axis=0)\n",
    "    res = np.nan_to_num(M / norm)\n",
    "    if do_round:\n",
    "        res_t = res.T\n",
    "        for col, _ in enumerate(res_t):\n",
    "            col_max = np.max(res_t[col, :])\n",
    "            for row, _ in enumerate(res_t[col, :]):\n",
    "                if res_t[col, row] != 0 and res_t[col, row] == col_max:\n",
    "                    res_t[col, row] = 1.\n",
    "                else:\n",
    "                    res_t[col, row] = 0.\n",
    "        res = res_t.T\n",
    "    return res\n",
    "# context_1 = ('bsd', 'bsd', 'bcd', 'bcd')\n",
    "# print(S(L(S(create_L0_matrix(context_1))), True))\n",
    "\n",
    "def fill_w_L0(M, L0):\n",
    "    \"\"\"Back-off to literal instantiation.\"\"\"\n",
    "    empty_rows = [i for i, v in enumerate(np.sum(M, axis=1)) if v == 0]\n",
    "    for r in empty_rows:\n",
    "        for j, c in enumerate(M[r, :]):\n",
    "            M[r, j] = L0[r, j] if np.sum(M[r, :]) == 0 else M[r, j]\n",
    "    return M\n",
    "\n",
    "def m2code(M, context):\n",
    "    \"\"\"Convert matrix to code.\"\"\"\n",
    "    us = ['b', 'g', 's', 'c', 'd', 't']\n",
    "    V = []\n",
    "    for i, c in enumerate(context):\n",
    "        V.append([us[k] for k, j in enumerate(M[i]) if j == 1])\n",
    "    return V\n",
    "\n",
    "def entropy(x):\n",
    "    \"\"\"Entropy calculation.\"\"\"\n",
    "    return -np.sum([i * np.log2(i) for i in x])\n",
    "\n",
    "def context_entropy(context):\n",
    "    \"\"\"Context entropy.\"\"\"\n",
    "    cnts = np.array(list(Counter(''.join(context)).values())).astype(float)\n",
    "    total = np.sum(cnts)\n",
    "    ps = cnts / total\n",
    "    ent = entropy(ps)\n",
    "    return ent\n",
    "\n",
    "def get_bit_rate(m):\n",
    "    \"\"\"Utterance bit rate.\"\"\"\n",
    "    res = []\n",
    "    for col in m.T:\n",
    "        s = float(np.sum(col))/len(m[0,:])\n",
    "        log_s = -np.log2(s) if s != 0 else 0.\n",
    "        res.append(log_s)  \n",
    "    return np.mean(res)\n",
    "# context_1 = ('bsd', 'bsd', 'bsd', 'bsd')\n",
    "# get_bit_rate(S(L(S(create_L0_matrix(context_1))), True))"
   ]
  },
  {
   "cell_type": "markdown",
   "metadata": {},
   "source": [
    "Get data."
   ]
  },
  {
   "cell_type": "code",
   "execution_count": 20,
   "metadata": {},
   "outputs": [
    {
     "name": "stderr",
     "output_type": "stream",
     "text": [
      "/Users/benpeloquin/anaconda/lib/python3.6/site-packages/ipykernel_launcher.py:17: RuntimeWarning: invalid value encountered in true_divide\n"
     ]
    }
   ],
   "source": [
    "data = []\n",
    "for c in contexts:\n",
    "    m_L0 = create_L0_matrix(c)\n",
    "    m_S0 = m_L0\n",
    "    m_S1 = fill_w_L0(S(L(S(m_L0)), True), m_L0)  # If no pragmatics, back-off to literal\n",
    "    res = {\n",
    "        'unique_groups': len(Counter(c).keys()),\n",
    "        'context': ' '.join(c),\n",
    "        'context_entropy': context_entropy(c),\n",
    "        'S0_bit_rate': get_bit_rate(m_S0),\n",
    "        'S1_bit_rate': get_bit_rate(m_S1)\n",
    "    }\n",
    "    data.append(res)\n",
    "df = pd.DataFrame(data)"
   ]
  },
  {
   "cell_type": "code",
   "execution_count": 21,
   "metadata": {
    "collapsed": true
   },
   "outputs": [],
   "source": [
    "df_melt = df \\\n",
    "    .melt(id_vars=['context', 'context_entropy', 'unique_groups'], value_vars=['S0_bit_rate', 'S1_bit_rate'],\n",
    "          value_name='bit_rate')\n",
    "df_melt['context_entropy'] = df_melt['context_entropy'].apply(lambda x: round(x, 3))\n",
    "df_melt['bit_rate'] = df_melt['bit_rate'].apply(lambda x: round(x, 3))"
   ]
  },
  {
   "cell_type": "markdown",
   "metadata": {},
   "source": [
    "Plotting."
   ]
  },
  {
   "cell_type": "code",
   "execution_count": 26,
   "metadata": {},
   "outputs": [
    {
     "name": "stderr",
     "output_type": "stream",
     "text": [
      "/Users/benpeloquin/anaconda/lib/python3.6/site-packages/seaborn/categorical.py:1468: FutureWarning: remove_na is deprecated and is a private function. Do not use.\n",
      "  stat_data = remove_na(group_data[hue_mask])\n"
     ]
    },
    {
     "data": {
      "text/plain": [
       "<matplotlib.axes._subplots.AxesSubplot at 0x10aa1d358>"
      ]
     },
     "execution_count": 26,
     "metadata": {},
     "output_type": "execute_result"
    },
    {
     "data": {
      "image/png": "[encoded data removed]",
      "text/plain": [
       "<matplotlib.figure.Figure at 0x10a775d30>"
      ]
     },
     "metadata": {},
     "output_type": "display_data"
    }
   ],
   "source": [
    "sns.barplot(x='unique_groups', y='bit_rate', hue='variable',ci=None, data=df_melt)"
   ]
  },
  {
   "cell_type": "code",
   "execution_count": 27,
   "metadata": {},
   "outputs": [
    {
     "name": "stderr",
     "output_type": "stream",
     "text": [
      "/Users/benpeloquin/anaconda/lib/python3.6/site-packages/seaborn/categorical.py:1468: FutureWarning: remove_na is deprecated and is a private function. Do not use.\n",
      "  stat_data = remove_na(group_data[hue_mask])\n"
     ]
    },
    {
     "data": {
      "text/plain": [
       "<matplotlib.axes._subplots.AxesSubplot at 0x10ab0c898>"
      ]
     },
     "execution_count": 27,
     "metadata": {},
     "output_type": "execute_result"
    },
    {
     "data": {
      "image/png": "[encoded data removed]",
      "text/plain": [
       "<matplotlib.figure.Figure at 0x10a988e10>"
      ]
     },
     "metadata": {},
     "output_type": "display_data"
    }
   ],
   "source": [
    "sns.barplot(x='context_entropy', y='bit_rate', hue='variable', ci=None, data=df_melt)"
   ]
  },
  {
   "cell_type": "markdown",
   "metadata": {},
   "source": [
    "This plot says that for every possible communicative context $c \\in C$ the average utterance informativity for a pragmatic speaker is great than for a literal speaker as long as the context support any pragmatic enrichment (context entropy > 1)."
   ]
  },
  {
   "cell_type": "markdown",
   "metadata": {},
   "source": [
    "Note that the points in which `S0==S1` are cases in which there is no pragmatic information."
   ]
  },
  {
   "cell_type": "code",
   "execution_count": 31,
   "metadata": {},
   "outputs": [
    {
     "data": {
      "text/html": [
       "<div>\n",
       "<style scoped>\n",
       "    .dataframe tbody tr th:only-of-type {\n",
       "        vertical-align: middle;\n",
       "    }\n",
       "\n",
       "    .dataframe tbody tr th {\n",
       "        vertical-align: top;\n",
       "    }\n",
       "\n",
       "    .dataframe thead th {\n",
       "        text-align: right;\n",
       "    }\n",
       "</style>\n",
       "<table border=\"1\" class=\"dataframe\">\n",
       "  <thead>\n",
       "    <tr style=\"text-align: right;\">\n",
       "      <th></th>\n",
       "      <th>context</th>\n",
       "      <th>context_entropy</th>\n",
       "      <th>unique_groups</th>\n",
       "      <th>variable</th>\n",
       "      <th>bit_rate</th>\n",
       "    </tr>\n",
       "  </thead>\n",
       "  <tbody>\n",
       "    <tr>\n",
       "      <th>9</th>\n",
       "      <td>bsd bsd bst bst</td>\n",
       "      <td>1.918</td>\n",
       "      <td>2</td>\n",
       "      <td>S0_bit_rate</td>\n",
       "      <td>0.723</td>\n",
       "    </tr>\n",
       "    <tr>\n",
       "      <th>18</th>\n",
       "      <td>bsd bsd bcd bcd</td>\n",
       "      <td>1.918</td>\n",
       "      <td>2</td>\n",
       "      <td>S0_bit_rate</td>\n",
       "      <td>0.723</td>\n",
       "    </tr>\n",
       "    <tr>\n",
       "      <th>27</th>\n",
       "      <td>bsd bsd bct bct</td>\n",
       "      <td>2.252</td>\n",
       "      <td>2</td>\n",
       "      <td>S0_bit_rate</td>\n",
       "      <td>1.154</td>\n",
       "    </tr>\n",
       "    <tr>\n",
       "      <th>36</th>\n",
       "      <td>bsd bsd gsd gsd</td>\n",
       "      <td>1.918</td>\n",
       "      <td>2</td>\n",
       "      <td>S0_bit_rate</td>\n",
       "      <td>0.723</td>\n",
       "    </tr>\n",
       "    <tr>\n",
       "      <th>45</th>\n",
       "      <td>bsd bsd gst gst</td>\n",
       "      <td>2.252</td>\n",
       "      <td>2</td>\n",
       "      <td>S0_bit_rate</td>\n",
       "      <td>1.154</td>\n",
       "    </tr>\n",
       "    <tr>\n",
       "      <th>54</th>\n",
       "      <td>bsd bsd gcd gcd</td>\n",
       "      <td>2.252</td>\n",
       "      <td>2</td>\n",
       "      <td>S0_bit_rate</td>\n",
       "      <td>1.154</td>\n",
       "    </tr>\n",
       "    <tr>\n",
       "      <th>63</th>\n",
       "      <td>bsd bsd gct gct</td>\n",
       "      <td>2.585</td>\n",
       "      <td>2</td>\n",
       "      <td>S0_bit_rate</td>\n",
       "      <td>1.585</td>\n",
       "    </tr>\n",
       "    <tr>\n",
       "      <th>65</th>\n",
       "      <td>bsd bst bsd bst</td>\n",
       "      <td>1.918</td>\n",
       "      <td>2</td>\n",
       "      <td>S0_bit_rate</td>\n",
       "      <td>0.723</td>\n",
       "    </tr>\n",
       "    <tr>\n",
       "      <th>72</th>\n",
       "      <td>bsd bst bst bsd</td>\n",
       "      <td>1.918</td>\n",
       "      <td>2</td>\n",
       "      <td>S0_bit_rate</td>\n",
       "      <td>0.723</td>\n",
       "    </tr>\n",
       "    <tr>\n",
       "      <th>83</th>\n",
       "      <td>bsd bst bcd bct</td>\n",
       "      <td>2.252</td>\n",
       "      <td>4</td>\n",
       "      <td>S0_bit_rate</td>\n",
       "      <td>1.154</td>\n",
       "    </tr>\n",
       "  </tbody>\n",
       "</table>\n",
       "</div>"
      ],
      "text/plain": [
       "            context  context_entropy  unique_groups     variable  bit_rate\n",
       "9   bsd bsd bst bst            1.918              2  S0_bit_rate     0.723\n",
       "18  bsd bsd bcd bcd            1.918              2  S0_bit_rate     0.723\n",
       "27  bsd bsd bct bct            2.252              2  S0_bit_rate     1.154\n",
       "36  bsd bsd gsd gsd            1.918              2  S0_bit_rate     0.723\n",
       "45  bsd bsd gst gst            2.252              2  S0_bit_rate     1.154\n",
       "54  bsd bsd gcd gcd            2.252              2  S0_bit_rate     1.154\n",
       "63  bsd bsd gct gct            2.585              2  S0_bit_rate     1.585\n",
       "65  bsd bst bsd bst            1.918              2  S0_bit_rate     0.723\n",
       "72  bsd bst bst bsd            1.918              2  S0_bit_rate     0.723\n",
       "83  bsd bst bcd bct            2.252              4  S0_bit_rate     1.154"
      ]
     },
     "execution_count": 31,
     "metadata": {},
     "output_type": "execute_result"
    }
   ],
   "source": [
    "df_melt[df_melt['context_entropy'].isin([1.918, 2.252, 2.585])].head(n=10)"
   ]
  },
  {
   "cell_type": "markdown",
   "metadata": {},
   "source": [
    "# Old"
   ]
  },
  {
   "cell_type": "code",
   "execution_count": 8,
   "metadata": {
    "collapsed": true
   },
   "outputs": [],
   "source": [
    "# data = []\n",
    "# for c in contexts:\n",
    "#     L0 = create_L0_matrix(c)\n",
    "#     S0_code = m2code(L0, c)\n",
    "#     S1_m = fill_w_L0(S(L(S(L0)), True), L0)  # If no pragmatics, back-off to literal\n",
    "#     S1_code = m2code(S1_m, c)\n",
    "#     res = {\n",
    "#         'S0_1': ''.join(S0_code[0]),\n",
    "#         'S0_2': ''.join(S0_code[1]),\n",
    "#         'S0_3': ''.join(S0_code[2]),\n",
    "#         'S1_1': ''.join(S1_code[0]),\n",
    "#         'S1_2': ''.join(S1_code[1]),\n",
    "#         'S1_3': ''.join(S1_code[2]),\n",
    "#         'context': ' '.join(c)\n",
    "#     }\n",
    "#     data.append(res)"
   ]
  },
  {
   "cell_type": "code",
   "execution_count": 9,
   "metadata": {
    "collapsed": true
   },
   "outputs": [],
   "source": [
    "# df = pd.DataFrame(data); df.head()"
   ]
  },
  {
   "cell_type": "code",
   "execution_count": 10,
   "metadata": {
    "collapsed": true
   },
   "outputs": [],
   "source": [
    "# df[\"S0_length\"] = df.apply(lambda x: len(x[\"S0_1\"]) + len(x[\"S0_2\"]) + len(x[\"S0_3\"]), axis=1)\n",
    "# df[\"S1_length\"] = df.apply(lambda x: len(x[\"S1_1\"]) + len(x[\"S1_2\"]) + len(x[\"S1_3\"]), axis=1)"
   ]
  },
  {
   "cell_type": "code",
   "execution_count": 11,
   "metadata": {
    "collapsed": true
   },
   "outputs": [],
   "source": [
    "# df_melt = df \\\n",
    "#     .melt(id_vars=['context'], value_vars=['S0_1', 'S0_2', 'S0_3', 'S1_1', 'S1_2', 'S1_3'],\n",
    "#           value_name='code')\n",
    "# df_melt['level'] = df_melt.apply(lambda x: 'S1' if 'S1' in x['variable'] else 'S0', axis=1)\n",
    "# df_melt['bits'] = df_melt.apply(lambda x: len(x['code']), axis=1)\n",
    "# # Filter to S1\n",
    "# df_melt = df_melt[df_melt['level'] == 'S1']\n",
    "# df_melt['context_entropy'] = df_melt.apply(lambda x: context_entropy(x['context'].split()), axis=1)"
   ]
  },
  {
   "cell_type": "code",
   "execution_count": 9,
   "metadata": {
    "collapsed": true
   },
   "outputs": [],
   "source": [
    "# df_melt_prag = df_melt[df_melt['context_entropy'] > 1.5]"
   ]
  },
  {
   "cell_type": "code",
   "execution_count": 10,
   "metadata": {
    "collapsed": true
   },
   "outputs": [],
   "source": [
    "# float(df_melt_prag['bits'].sum()) / len(df_melt_prag)"
   ]
  },
  {
   "cell_type": "code",
   "execution_count": 11,
   "metadata": {
    "collapsed": true
   },
   "outputs": [],
   "source": [
    "x_1 = [float(1)/3, float(1)/3, float(2)/3]\n",
    "x_2 = [float(3)/3, float(3)/3]"
   ]
  },
  {
   "cell_type": "code",
   "execution_count": 12,
   "metadata": {},
   "outputs": [
    {
     "data": {
      "text/plain": [
       "0.0"
      ]
     },
     "execution_count": 12,
     "metadata": {},
     "output_type": "execute_result"
    }
   ],
   "source": [
    "np.mean(map(lambda j: -np.log2(j), x_2))"
   ]
  },
  {
   "cell_type": "code",
   "execution_count": 13,
   "metadata": {},
   "outputs": [
    {
     "name": "stderr",
     "output_type": "stream",
     "text": [
      "/Users/benpeloquin/anaconda/envs/rsa-uid/lib/python2.7/site-packages/ipykernel_launcher.py:15: RuntimeWarning: invalid value encountered in divide\n",
      "  from ipykernel import kernelapp as app\n"
     ]
    },
    {
     "data": {
      "text/plain": [
       "array([[1., 0., 1., 0.],\n",
       "       [1., 0., 1., 0.],\n",
       "       [0., 0., 0., 1.]])"
      ]
     },
     "execution_count": 13,
     "metadata": {},
     "output_type": "execute_result"
    }
   ],
   "source": [
    "S(L(S(create_L0_matrix(context_1))), True)"
   ]
  },
  {
   "cell_type": "code",
   "execution_count": 14,
   "metadata": {
    "collapsed": true
   },
   "outputs": [],
   "source": [
    "context_0 = ('bs', 'gs', 'bc')\n",
    "context_1 = ('bs', 'bs', 'bc')\n",
    "context_2 = ('bs', 'bs', 'bs')"
   ]
  },
  {
   "cell_type": "code",
   "execution_count": 15,
   "metadata": {},
   "outputs": [
    {
     "name": "stdout",
     "output_type": "stream",
     "text": [
      "[[1. 0. 1. 0.]\n",
      " [1. 0. 1. 0.]\n",
      " [1. 0. 0. 1.]]\n",
      "[[1. 0. 1. 0.]\n",
      " [1. 0. 1. 0.]\n",
      " [0. 0. 0. 1.]]\n"
     ]
    },
    {
     "name": "stderr",
     "output_type": "stream",
     "text": [
      "/Users/benpeloquin/anaconda/envs/rsa-uid/lib/python2.7/site-packages/ipykernel_launcher.py:15: RuntimeWarning: invalid value encountered in divide\n",
      "  from ipykernel import kernelapp as app\n"
     ]
    }
   ],
   "source": [
    "m0 = create_L0_matrix(context_1)\n",
    "m1 = S(L(S(create_L0_matrix(context_1))), True)\n",
    "print(m0)\n",
    "print(m1)"
   ]
  }
 ],
 "metadata": {
  "kernelspec": {
   "display_name": "Python 3",
   "language": "python",
   "name": "python3"
  },
  "language_info": {
   "codemirror_mode": {
    "name": "ipython",
    "version": 3
   },
   "file_extension": ".py",
   "mimetype": "text/x-python",
   "name": "python",
   "nbconvert_exporter": "python",
   "pygments_lexer": "ipython3",
   "version": "3.6.4"
  }
 },
 "nbformat": 4,
 "nbformat_minor": 2
}
